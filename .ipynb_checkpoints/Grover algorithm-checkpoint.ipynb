{
 "cells": [
  {
   "cell_type": "markdown",
   "id": "00c563a1",
   "metadata": {},
   "source": [
    "Grover algorithm\n",
    "=============="
   ]
  },
  {
   "cell_type": "markdown",
   "id": "b1abab8f",
   "metadata": {},
   "source": [
    "Grover algorithm for two qubits\n",
    "==========================\n",
    "\n",
    "Based on work from Zhang J, Hegde SS, Suter D. Efficient Implementation of a Quantum Algorithm in a Single Nitrogen-Vacancy Center of Diamond. Phys Rev Lett. 2020 Jul 17;125\n",
    "\n",
    "The oracle returns a phase flip for the two quits marked only.  Following Zhang the Z gate is shown as a P(PI) gate"
   ]
  },
  {
   "cell_type": "code",
   "execution_count": 1,
   "id": "f37239f2",
   "metadata": {},
   "outputs": [],
   "source": [
    "from qiskit import(\n",
    "    QuantumCircuit,\n",
    "    QuantumRegister,\n",
    "    ClassicalRegister,\n",
    "    execute,\n",
    "    Aer\n",
    "    )\n",
    "\n",
    "import math"
   ]
  },
  {
   "cell_type": "code",
   "execution_count": 2,
   "id": "745d42a4",
   "metadata": {},
   "outputs": [],
   "source": [
    "SHOTS = 1000                     #Number of shots to run    \n",
    "SIMULATOR = Aer.get_backend('qasm_simulator')\n",
    "#enter the case to chose the relevant oracle\n",
    "CASE = '11'\n",
    "PI = math.pi"
   ]
  },
  {
   "cell_type": "code",
   "execution_count": 3,
   "id": "fefdd299",
   "metadata": {},
   "outputs": [],
   "source": [
    "cd = QuantumRegister(1,'electron')\n",
    "ce = QuantumRegister(1,'c13_nuclear')\n",
    "sd = ClassicalRegister(1,'measure_electron') \n",
    "se = ClassicalRegister(1,'measure_c13_nuclear') \n",
    "qc = QuantumCircuit(cd, ce, sd, se)"
   ]
  },
  {
   "cell_type": "code",
   "execution_count": 4,
   "id": "c014c846",
   "metadata": {},
   "outputs": [],
   "source": [
    "def init():\n",
    "    qc.reset(cd[0])\n",
    "    qc.reset(ce[0])"
   ]
  },
  {
   "cell_type": "code",
   "execution_count": 5,
   "id": "5eff31e0",
   "metadata": {},
   "outputs": [],
   "source": [
    "def H12():\n",
    "    qc.h(cd[0])\n",
    "    qc.h(ce[0])"
   ]
  },
  {
   "cell_type": "code",
   "execution_count": 6,
   "id": "6850d899",
   "metadata": {},
   "outputs": [],
   "source": [
    "# oracle for |00> state\n",
    "def I00():\n",
    "    qc.h(ce[0])\n",
    "    qc.cx(cd[0], ce[0])\n",
    "    qc.h(ce[0])\n",
    "    qc.p(PI, cd[0])\n",
    "    qc.p(PI, ce[0])"
   ]
  },
  {
   "cell_type": "code",
   "execution_count": 7,
   "id": "a68e26b3",
   "metadata": {},
   "outputs": [],
   "source": [
    "# oracle for |01> state\n",
    "def I01():\n",
    "    qc.h(ce[0])\n",
    "    qc.cx(cd[0], ce[0])\n",
    "    qc.h(ce[0])\n",
    "    qc.p(PI, ce[0])"
   ]
  },
  {
   "cell_type": "code",
   "execution_count": 8,
   "id": "623508c4",
   "metadata": {},
   "outputs": [],
   "source": [
    "# oracle for |10> state\n",
    "def I10():\n",
    "    qc.h(ce[0])\n",
    "    qc.cx(cd[0], ce[0])\n",
    "    qc.h(ce[0])\n",
    "    qc.p(PI, cd[0])"
   ]
  },
  {
   "cell_type": "code",
   "execution_count": 9,
   "id": "36b37543",
   "metadata": {},
   "outputs": [],
   "source": [
    "# oracle for |11> state\n",
    "def I11():\n",
    "    qc.h(ce[0])\n",
    "    qc.cx(cd[0], ce[0])\n",
    "    qc.h(ce[0])"
   ]
  },
  {
   "cell_type": "code",
   "execution_count": 10,
   "id": "34c36d74",
   "metadata": {},
   "outputs": [],
   "source": [
    "def measure():\n",
    "    qc.measure(cd, sd)\n",
    "    qc.measure(ce, se)"
   ]
  },
  {
   "cell_type": "code",
   "execution_count": 11,
   "id": "cfd0beee",
   "metadata": {},
   "outputs": [],
   "source": [
    "init()\n",
    "qc.barrier()\n",
    "# set up equal superposition of states\n",
    "H12()\n",
    "qc.barrier()\n",
    "#include relevant oracle\n",
    "if CASE == '00':\n",
    "    I00()\n",
    "elif CASE == '01':\n",
    "    I01()\n",
    "elif CASE == '10':\n",
    "    I10()\n",
    "elif CASE == '11':\n",
    "    I11()\n",
    "else:\n",
    "    raise ValueError(f'case {CASE} not coded')\n",
    "#diffuser changes phase of all quantum states\n",
    "qc.barrier()\n",
    "H12()\n",
    "qc.barrier()\n",
    "I00()\n",
    "qc.barrier()\n",
    "H12()\n",
    "#quantum tomography\n",
    "measure()"
   ]
  },
  {
   "cell_type": "code",
   "execution_count": 12,
   "id": "23c24889",
   "metadata": {},
   "outputs": [
    {
     "name": "stdout",
     "output_type": "stream",
     "text": [
      "The different states can be counted.  The simulated result are {'1 1': 1000}\n"
     ]
    }
   ],
   "source": [
    "result = execute(qc, SIMULATOR, shots = SHOTS).result()\n",
    "counts = result.get_counts(qc)\n",
    "print ('The different states can be counted.  The simulated result are', counts)"
   ]
  },
  {
   "cell_type": "markdown",
   "id": "dbe4c742",
   "metadata": {},
   "source": [
    "Note, Qiskit reverses order of bits from that expected"
   ]
  },
  {
   "cell_type": "code",
   "execution_count": 13,
   "id": "691e5cc4",
   "metadata": {},
   "outputs": [
    {
     "data": {
      "image/png": "[encoded data removed]",
      "text/plain": [
       "<Figure size 1371.83x264.88 with 1 Axes>"
      ]
     },
     "execution_count": 13,
     "metadata": {},
     "output_type": "execute_result"
    }
   ],
   "source": [
    "#save circuit\n",
    "fname = 'Grover algorithm case ' + CASE + '.jpg'\n",
    "qc.draw(output='mpl', filename = fname)"
   ]
  }
 ],
 "metadata": {
  "kernelspec": {
   "display_name": "Python 3",
   "language": "python",
   "name": "python3"
  },
  "language_info": {
   "codemirror_mode": {
    "name": "ipython",
    "version": 3
   },
   "file_extension": ".py",
   "mimetype": "text/x-python",
   "name": "python",
   "nbconvert_exporter": "python",
   "pygments_lexer": "ipython3",
   "version": "3.8.10"
  }
 },
 "nbformat": 4,
 "nbformat_minor": 5
}
